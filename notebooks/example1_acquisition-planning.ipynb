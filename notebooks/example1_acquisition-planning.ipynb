{
 "cells": [
  {
   "cell_type": "markdown",
   "metadata": {},
   "source": [
    "# M2GARSS 2024 Tutorial: Quantum Computing for Earth Observation\n",
    "## Example 1: Acquisition planning for EO satellites"
   ]
  },
  {
   "cell_type": "markdown",
   "metadata": {},
   "source": [
    "In this example, we test two different quantum optimization algorithms: QAOA and quantum annealing. We consider the acquisition planning problem as test application.\n",
    "\n",
    "A straightforward, high-level library for generating problem instances and testing QAOA is available.\n",
    "It is called `mqt-problemsolver` (it is already included in the `requirements.txt` file).\n",
    "Check out their [documentation](https://github.com/cda-tum/mqt-problemsolver) and their paper:\n",
    "\n",
    "*Quetschlich, N., Koch, V., Burgholzer, L., & Wille, R. (2023). A Hybrid Classical Quantum Computing Approach to the Satellite Mission Planning Problem. https://arxiv.org/abs/2308.00029v1*\n"
   ]
  },
  {
   "cell_type": "code",
   "execution_count": null,
   "metadata": {},
   "outputs": [],
   "source": [
    "import sys\n",
    "sys.path.append(\"..\")\n",
    "import example1\n",
    "\n",
    "import numpy as np\n",
    "import pytest\n",
    "from mqt.problemsolver.satellitesolver import algorithms, utils\n",
    "from mqt.problemsolver.satellitesolver.evaluator import eval_all_instances_Satellite_Solver\n",
    "from mqt.problemsolver.satellitesolver.ImagingLocation import LocationRequest\n",
    "from qiskit_optimization import QuadraticProgram\n",
    "from typing import Any\n",
    "\n",
    "from dwave.cloud import Client\n",
    "from dwave.system.samplers import DWaveSampler\n",
    "from dwave.system.composites import EmbeddingComposite\n",
    "import dimod\n",
    "import dwave_networkx as dnx\n",
    "import networkx as nx\n",
    "import matplotlib.pyplot as plt"
   ]
  },
  {
   "cell_type": "markdown",
   "metadata": {},
   "source": [
    "### Problem instance"
   ]
  },
  {
   "cell_type": "code",
   "execution_count": null,
   "metadata": {},
   "outputs": [],
   "source": [
    "num_to_be_captured_locations = 5\n",
    "ac_requests = utils.init_random_acquisition_requests(num_to_be_captured_locations)\n",
    "converter, qubo = utils.convert_docplex_to_qubo(utils.create_satellite_doxplex(ac_requests))"
   ]
  },
  {
   "cell_type": "markdown",
   "metadata": {},
   "source": [
    "### Quantum Approximate Optimization Algorithm (QAOA)\n",
    "For QAOA, a real or simulated quantum platform for running quantum circuit is required. [IBM Quantum](https://quantum.ibm.com/) offers free cloud access to quantum computers based on superconducting qubits. In practice, simulating quantum circuits on a personal computer for testing purposes is much more time efficient. For this, the [Qiskit](https://www.ibm.com/quantum/qiskit) library can be used."
   ]
  },
  {
   "cell_type": "code",
   "execution_count": null,
   "metadata": {},
   "outputs": [],
   "source": [
    "from mqt.problemsolver.satellitesolver import utils\n",
    "from mqt.problemsolver.satellitesolver.algorithms import solve_using_qaoa\n",
    "\n",
    "use_noisy_backend = True\n",
    "res_qaoa = solve_using_qaoa(qubo, noisy_flag=use_noisy_backend)\n"
   ]
  },
  {
   "cell_type": "markdown",
   "metadata": {},
   "source": [
    "### Quantum Annealing\n",
    "For running quantum annealing, access to a D-Wave quantum annealer has to be obtained. A free trial account on [D-Wave Leap](https://cloud.dwavesys.com/leap/) can be created. Then, here are instructions on [how to configure access to the D-Wave solvers](https://docs.ocean.dwavesys.com/en/stable/overview/sapi.html)."
   ]
  },
  {
   "cell_type": "code",
   "execution_count": null,
   "metadata": {},
   "outputs": [],
   "source": [
    "def solve_using_qa(qubo, qa_setup: dict[str, Any]):\n",
    "    # Create a client instance\n",
    "    client = Client.from_config()\n",
    "\n",
    "    # Get the list of available solvers\n",
    "    solvers = client.get_solvers()\n",
    "\n",
    "    # Print the name of the used solvers\n",
    "    print(\"Using solver\", solvers[0].id)\n",
    "\n",
    "    # Create a sampler\n",
    "    sampler = DWaveSampler(solver=solvers[0].id)\n",
    "\n",
    "    # Solve the QUBO using the D-Wave sampler\n",
    "    sampleset = sampler.sample_qubo(qubo, num_reads=qa_setup(\"num_reads\"), label='Acquisition Planning')\n",
    "    return sampleset"
   ]
  }
 ],
 "metadata": {
  "kernelspec": {
   "display_name": "base",
   "language": "python",
   "name": "python3"
  },
  "language_info": {
   "name": "python",
   "version": "3.9.12"
  }
 },
 "nbformat": 4,
 "nbformat_minor": 2
}
